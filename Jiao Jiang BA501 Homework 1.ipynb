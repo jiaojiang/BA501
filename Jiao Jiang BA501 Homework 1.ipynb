{
 "cells": [
  {
   "cell_type": "code",
   "execution_count": 14,
   "metadata": {},
   "outputs": [],
   "source": [
    "import numpy as np\n",
    "import pandas as pd\n",
    "from matplotlib import pyplot as plt"
   ]
  },
  {
   "cell_type": "code",
   "execution_count": 2,
   "metadata": {},
   "outputs": [
    {
     "name": "stdout",
     "output_type": "stream",
     "text": [
      "[1 2 2 3 4 3 5 1]\n"
     ]
    }
   ],
   "source": [
    "# homework1 remove duplicates value\n",
    "my_array = np.array([1,2,2,3,4,3,5,1])\n",
    "array = np.unique(my_array)\n",
    "print(array)"
   ]
  },
  {
   "cell_type": "code",
   "execution_count": 10,
   "metadata": {},
   "outputs": [],
   "source": [
    "# homework2 determine acceptance rate of requests SQL\n",
    "# SELECT 100%*SUM(accepted.time)/SUM(request.time) AS rate\n",
    "# FROM friend_accepted AS accepted\n",
    "# INNOR JOIN friend_request AS request\n",
    "#    ON request.requester_id = accepted.requestor_id\n",
    "#    AND request.sent_to_id = accepted.acceptor_id\n",
    "# GROUP BY 1"
   ]
  },
  {
   "cell_type": "code",
   "execution_count": 191,
   "metadata": {},
   "outputs": [],
   "source": [
    "# homework2 determine acceptance rate of requests Python\n",
    "# Pandas Cheat Sheet pandas/doc/cheatsheet/Pandas_Cheat_Sheet.pdf\n",
    "# rate = sum(accept) / sum(request)\n",
    "merged = pd.merge(friend_accepted, friend_request, how='inner',\n",
    "                  on=['requester_id','requestor_id'])\n",
    "rate = sum(merged[0])/sum(merged[1])"
   ]
  },
  {
   "cell_type": "code",
   "execution_count": 14,
   "metadata": {},
   "outputs": [],
   "source": [
    "# homework3 identify issuer"
   ]
  },
  {
   "cell_type": "code",
   "execution_count": 15,
   "metadata": {},
   "outputs": [],
   "source": [
    "CC = ['4175004175004172', '4917491749174917', \n",
    "             '346416800707698', '376416800707698', \n",
    "             '37641680070769832112','36641680070769', \n",
    "             '54545641680070769']\n",
    "\n",
    "if (CC[0] == '4' and len(CC) == 16):\n",
    "    if (CC[0:4]=='4026'or'4405'or'4508'or'4844'or'4913'or'4917'\n",
    "       or (CC[0:6]=='417500')):\n",
    "        print(\"VISAELECTRON\")\n",
    "    else:\n",
    "        print(\"VISA\")\n",
    "elif (CC[0:2]=='34'or'37' and len(CC) == 15):\n",
    "    print(\"AMEX\")\n",
    "elif (CC[0:2]== '36' and len(CC) == 14):\n",
    "    print(\"Diners Club\")\n",
    "else:\n",
    "    print(\"UNKNOWN\")\n",
    "    "
   ]
  },
  {
   "cell_type": "code",
   "execution_count": 3,
   "metadata": {},
   "outputs": [],
   "source": [
    "# homework4 Print Cumulative Time Series\n",
    "# read data\n",
    "file_location = \"/Users/jiao/Downloads/\"\n",
    "file_name = \"BA501_python_data.csv\"\n",
    "my_data = pd.read_csv(file_location + file_name)"
   ]
  },
  {
   "cell_type": "code",
   "execution_count": 4,
   "metadata": {},
   "outputs": [
    {
     "data": {
      "text/html": [
       "<div>\n",
       "<style scoped>\n",
       "    .dataframe tbody tr th:only-of-type {\n",
       "        vertical-align: middle;\n",
       "    }\n",
       "\n",
       "    .dataframe tbody tr th {\n",
       "        vertical-align: top;\n",
       "    }\n",
       "\n",
       "    .dataframe thead th {\n",
       "        text-align: right;\n",
       "    }\n",
       "</style>\n",
       "<table border=\"1\" class=\"dataframe\">\n",
       "  <thead>\n",
       "    <tr style=\"text-align: right;\">\n",
       "      <th></th>\n",
       "      <th>country</th>\n",
       "      <th>date</th>\n",
       "      <th>experiment_id</th>\n",
       "      <th>order_id</th>\n",
       "      <th>spend_usd</th>\n",
       "      <th>user_id</th>\n",
       "      <th>vertical</th>\n",
       "    </tr>\n",
       "  </thead>\n",
       "  <tbody>\n",
       "    <tr>\n",
       "      <th>0</th>\n",
       "      <td>JP</td>\n",
       "      <td>2017-04-02</td>\n",
       "      <td>12624548</td>\n",
       "      <td>5813140433216629693</td>\n",
       "      <td>16.138855</td>\n",
       "      <td>5006730028073359543</td>\n",
       "      <td>ANDROID_APPS</td>\n",
       "    </tr>\n",
       "    <tr>\n",
       "      <th>1</th>\n",
       "      <td>US</td>\n",
       "      <td>2017-04-03</td>\n",
       "      <td>12624549</td>\n",
       "      <td>16333056276711034931</td>\n",
       "      <td>9.990000</td>\n",
       "      <td>5938685669571545259</td>\n",
       "      <td>ANDROID_APPS</td>\n",
       "    </tr>\n",
       "    <tr>\n",
       "      <th>2</th>\n",
       "      <td>JP</td>\n",
       "      <td>2017-04-04</td>\n",
       "      <td>12624548</td>\n",
       "      <td>11227119161741298366</td>\n",
       "      <td>19.887087</td>\n",
       "      <td>17623708458399141713</td>\n",
       "      <td>ANDROID_APPS</td>\n",
       "    </tr>\n",
       "    <tr>\n",
       "      <th>3</th>\n",
       "      <td>US</td>\n",
       "      <td>2017-04-03</td>\n",
       "      <td>12624548</td>\n",
       "      <td>11927299833124210932</td>\n",
       "      <td>19.990000</td>\n",
       "      <td>18042812344456618148</td>\n",
       "      <td>ANDROID_APPS</td>\n",
       "    </tr>\n",
       "    <tr>\n",
       "      <th>4</th>\n",
       "      <td>JP</td>\n",
       "      <td>2017-04-03</td>\n",
       "      <td>12624549</td>\n",
       "      <td>11644727017708872749</td>\n",
       "      <td>88.220093</td>\n",
       "      <td>4325104700699531031</td>\n",
       "      <td>ANDROID_APPS</td>\n",
       "    </tr>\n",
       "  </tbody>\n",
       "</table>\n",
       "</div>"
      ],
      "text/plain": [
       "  country       date  experiment_id              order_id  spend_usd  \\\n",
       "0      JP 2017-04-02       12624548   5813140433216629693  16.138855   \n",
       "1      US 2017-04-03       12624549  16333056276711034931   9.990000   \n",
       "2      JP 2017-04-04       12624548  11227119161741298366  19.887087   \n",
       "3      US 2017-04-03       12624548  11927299833124210932  19.990000   \n",
       "4      JP 2017-04-03       12624549  11644727017708872749  88.220093   \n",
       "\n",
       "                user_id      vertical  \n",
       "0   5006730028073359543  ANDROID_APPS  \n",
       "1   5938685669571545259  ANDROID_APPS  \n",
       "2  17623708458399141713  ANDROID_APPS  \n",
       "3  18042812344456618148  ANDROID_APPS  \n",
       "4   4325104700699531031  ANDROID_APPS  "
      ]
     },
     "execution_count": 4,
     "metadata": {},
     "output_type": "execute_result"
    }
   ],
   "source": [
    "import datetime\n",
    "my_data.date = pd.to_datetime(my_data.date, format='%Y%m%d')\n",
    "my_data.head(5)"
   ]
  },
  {
   "cell_type": "code",
   "execution_count": 5,
   "metadata": {},
   "outputs": [
    {
     "data": {
      "text/plain": [
       "date\n",
       "2017-04-01     84017.341822\n",
       "2017-04-02    137448.866601\n",
       "2017-04-03    190557.548939\n",
       "2017-04-04    236190.035518\n",
       "2017-04-05    287575.193811\n",
       "Name: spend_usd, dtype: float64"
      ]
     },
     "execution_count": 5,
     "metadata": {},
     "output_type": "execute_result"
    }
   ],
   "source": [
    "#red_id equals to experience_id=12624548\n",
    "#blue_id equals to experience_id=12624549\n",
    "np.unique(my_data[\"experiment_id\"])\n",
    "red_id = np.unique(my_data[\"experiment_id\"])[0]\n",
    "blue_id = np.unique(my_data[\"experiment_id\"])[1]\n",
    "\n",
    "# subset the data\n",
    "red_data = my_data[['date','spend_usd','country','vertical']][my_data.experiment_id == red_id]\n",
    "blue_data = my_data[['date','spend_usd','country','vertical']][my_data.experiment_id == blue_id]\n",
    "red_test = np.cumsum(red_data.groupby('date')['spend_usd'].sum())\n",
    "red_test.head(5)"
   ]
  },
  {
   "cell_type": "code",
   "execution_count": 6,
   "metadata": {},
   "outputs": [
    {
     "data": {
      "text/plain": [
       "date\n",
       "2017-04-01     79698.149014\n",
       "2017-04-02    135650.086580\n",
       "2017-04-03    183489.384696\n",
       "2017-04-04    229006.213561\n",
       "2017-04-05    283314.758617\n",
       "Name: spend_usd, dtype: float64"
      ]
     },
     "execution_count": 6,
     "metadata": {},
     "output_type": "execute_result"
    }
   ],
   "source": [
    "blue_test = np.cumsum(blue_data.groupby('date')['spend_usd'].sum())\n",
    "blue_test.head()"
   ]
  },
  {
   "cell_type": "code",
   "execution_count": 8,
   "metadata": {},
   "outputs": [
    {
     "data": {
      "image/png": "[encoded data removed]",
      "text/plain": [
       "<matplotlib.figure.Figure at 0x108bdae10>"
      ]
     },
     "metadata": {},
     "output_type": "display_data"
    }
   ],
   "source": [
    "# plot total differences between red and blue\n",
    "fig, ax = plt.subplots()\n",
    "ax.plot(red_test, color=\"red\", label=\"red\")\n",
    "ax.plot(blue_test, color=\"blue\", label = \"blue\")\n",
    "ax.set_ylim(0,450000)\n",
    "ax.set_title(\"Red vs. Blue\")\n",
    "ax.set_ylabel(\"Total Spend USD\")\n",
    "ax.grid(True, which=\"both\")\n",
    "ax.legend().get_texts()[0].set_text(\"Red\")\n",
    "ax.legend().get_texts()[1].set_text(\"Blue\")\n",
    "plt.gcf().autofmt_xdate()"
   ]
  },
  {
   "cell_type": "code",
   "execution_count": 64,
   "metadata": {},
   "outputs": [],
   "source": [
    "# define CumulativeTimeSeries() with three parameters: experiment_id, country, and vertical\n",
    "# filter with country and vertical\n",
    "def CumulativeTimeSeries(my_data, experiment_id, country, vertical):\n",
    "    table = my_data[['date', 'spend_usd']][(my_data.experiment_id == experiment_id) \n",
    "                                           & (my_data.country == country) \n",
    "                                           & (my_data.vertical == vertical)]\n",
    "    data = np.cumsum(table.groupby('date')['spend_usd'].sum())\n",
    "    total_revenue = my_data.spend_usd.sum() \n",
    "    return(data, total_revenue)\n",
    "# for example, set country = JP, vertical = ANDROID_APPS\n",
    "red = CumulativeTimeSeries(my_data, red_id, 'JP', 'ANDROID_APPS')\n",
    "blue = CumulativeTimeSeries(my_data, blue_id, 'JP', 'ANDROID_APPS')"
   ]
  },
  {
   "cell_type": "code",
   "execution_count": 52,
   "metadata": {},
   "outputs": [],
   "source": [
    "# define plot\n",
    "def plot(experiment, control, country, vertical):\n",
    "    fig, ax = plt.subplots()\n",
    "    ax.plot(red_test, color=\"red\", label=\"red\")\n",
    "    ax.plot(blue_test, color=\"blue\", label = \"blue\")\n",
    "    ax.set_ylim(0,450000)\n",
    "    ax.set_title(\"Red vs. Blue\")\n",
    "    ax.set_ylabel(\"Total Spend USD\")\n",
    "    ax.grid(True, which=\"both\")\n",
    "    ax.legend().get_texts()[0].set_text(\"Experiment\")\n",
    "    ax.legend().get_texts()[1].set_text(\"Control\")\n",
    "    plt.gcf().autofmt_xdate()"
   ]
  },
  {
   "cell_type": "code",
   "execution_count": 65,
   "metadata": {},
   "outputs": [],
   "source": [
    "# defint print series\n",
    "def PrintCumulativeTimeSeries(my_data, experiment_id, country, vertical):\n",
    "    my_data = my_data.sort_values(\"date\")\n",
    "    experiment = CumulativeTimeSeries(my_data, red_id, country, vertical)\n",
    "    control = CumulativeTimeSeries(my_data, blue_id, country, vertical)\n",
    "    plot(experiment, control, country, vertical)"
   ]
  },
  {
   "cell_type": "code",
   "execution_count": 66,
   "metadata": {
    "scrolled": true
   },
   "outputs": [
    {
     "data": {
      "image/png": "[encoded data removed]",
      "text/plain": [
       "<matplotlib.figure.Figure at 0x108c2e400>"
      ]
     },
     "metadata": {},
     "output_type": "display_data"
    }
   ],
   "source": [
    "PrintCumulativeTimeSeries(my_data, [red_id, blue_id], 'US', 'ANDROID_APPS')\n",
    "# Not sure if I call Print Method correctly"
   ]
  },
  {
   "cell_type": "code",
   "execution_count": null,
   "metadata": {},
   "outputs": [],
   "source": []
  }
 ],
 "metadata": {
  "kernelspec": {
   "display_name": "Python 3",
   "language": "python",
   "name": "python3"
  },
  "language_info": {
   "codemirror_mode": {
    "name": "ipython",
    "version": 3
   },
   "file_extension": ".py",
   "mimetype": "text/x-python",
   "name": "python",
   "nbconvert_exporter": "python",
   "pygments_lexer": "ipython3",
   "version": "3.6.4"
  }
 },
 "nbformat": 4,
 "nbformat_minor": 2
}
